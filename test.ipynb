{
 "cells": [
  {
   "cell_type": "code",
   "execution_count": 1,
   "id": "091447e6",
   "metadata": {},
   "outputs": [],
   "source": [
    "import numpy as np\n",
    "from ax.api.client import Client\n",
    "from ax.api.configs import RangeParameterConfig"
   ]
  },
  {
   "cell_type": "code",
   "execution_count": 2,
   "id": "a9f4cd00",
   "metadata": {},
   "outputs": [],
   "source": [
    "client = Client()"
   ]
  },
  {
   "cell_type": "code",
   "execution_count": 3,
   "id": "f237b6bb",
   "metadata": {},
   "outputs": [],
   "source": [
    "# Define six float parameters x1, x2, x3, ... for the Hartmann6 function, which is typically evaluated on the unit hypercube\n",
    "parameters = [\n",
    "    RangeParameterConfig(\n",
    "        name=\"x1\", parameter_type=\"float\", bounds=(0, 1)\n",
    "    ),\n",
    "    RangeParameterConfig(\n",
    "        name=\"x2\", parameter_type=\"float\", bounds=(0, 1)\n",
    "    ),\n",
    "    RangeParameterConfig(\n",
    "        name=\"x3\", parameter_type=\"float\", bounds=(0, 1)\n",
    "    ),\n",
    "    RangeParameterConfig(\n",
    "        name=\"x4\", parameter_type=\"float\", bounds=(0, 1)\n",
    "    ),\n",
    "    RangeParameterConfig(\n",
    "        name=\"x5\", parameter_type=\"float\", bounds=(0, 1)\n",
    "    ),\n",
    "    RangeParameterConfig(\n",
    "        name=\"x6\", parameter_type=\"float\", bounds=(0, 1)\n",
    "    ),\n",
    "]\n",
    "\n",
    "client.configure_experiment(parameters=parameters)"
   ]
  },
  {
   "cell_type": "code",
   "execution_count": 4,
   "id": "463b8c80",
   "metadata": {},
   "outputs": [],
   "source": [
    "metric_name = \"hartmann6\" # this name is used during the optimization loop in Step 5\n",
    "objective = f\"-{metric_name}\" # minimization is specified by the negative sign\n",
    "\n",
    "client.configure_optimization(objective=objective)"
   ]
  },
  {
   "cell_type": "code",
   "execution_count": 5,
   "id": "e2d48cd0",
   "metadata": {},
   "outputs": [
    {
     "data": {
      "text/plain": [
       "np.float64(-0.4878737485613134)"
      ]
     },
     "execution_count": 5,
     "metadata": {},
     "output_type": "execute_result"
    }
   ],
   "source": [
    "# Hartmann6 function\n",
    "def hartmann6(x1, x2, x3, x4, x5, x6):\n",
    "    alpha = np.array([1.0, 1.2, 3.0, 3.2])\n",
    "    A = np.array([\n",
    "        [10, 3, 17, 3.5, 1.7, 8],\n",
    "        [0.05, 10, 17, 0.1, 8, 14],\n",
    "        [3, 3.5, 1.7, 10, 17, 8],\n",
    "        [17, 8, 0.05, 10, 0.1, 14]\n",
    "    ])\n",
    "    P = 10**-4 * np.array([\n",
    "        [1312, 1696, 5569, 124, 8283, 5886],\n",
    "        [2329, 4135, 8307, 3736, 1004, 9991],\n",
    "        [2348, 1451, 3522, 2883, 3047, 6650],\n",
    "        [4047, 8828, 8732, 5743, 1091, 381]\n",
    "    ])\n",
    "\n",
    "    outer = 0.0\n",
    "    for i in range(4):\n",
    "        inner = 0.0\n",
    "        for j, x in enumerate([x1, x2, x3, x4, x5, x6]):\n",
    "            inner += A[i, j] * (x - P[i, j])**2\n",
    "        outer += alpha[i] * np.exp(-inner)\n",
    "    return -outer\n",
    "\n",
    "hartmann6(0.1, 0.45, 0.8, 0.25, 0.552, 1.0)"
   ]
  },
  {
   "cell_type": "code",
   "execution_count": 6,
   "id": "8536bc4d",
   "metadata": {},
   "outputs": [
    {
     "name": "stderr",
     "output_type": "stream",
     "text": [
      "[WARNING 08-05 07:27:37] ax.api.client: 3 trials requested but only 2 could be generated.\n"
     ]
    },
    {
     "name": "stdout",
     "output_type": "stream",
     "text": [
      "Completed trial 0 with raw_data={'hartmann6': np.float64(-0.5053149917022333)}\n",
      "Completed trial 1 with raw_data={'hartmann6': np.float64(-1.3936986130173827)}\n",
      "Completed trial 2 with raw_data={'hartmann6': np.float64(-0.033978602348233966)}\n",
      "Completed trial 3 with raw_data={'hartmann6': np.float64(-0.15634366135019337)}\n",
      "Completed trial 4 with raw_data={'hartmann6': np.float64(-0.08690780124565226)}\n"
     ]
    },
    {
     "name": "stderr",
     "output_type": "stream",
     "text": [
      "[WARNING 08-05 07:27:42] ax.api.client: 3 trials requested but only 1 could be generated.\n"
     ]
    },
    {
     "name": "stdout",
     "output_type": "stream",
     "text": [
      "Completed trial 5 with raw_data={'hartmann6': np.float64(-0.3103358827512352)}\n",
      "Completed trial 6 with raw_data={'hartmann6': np.float64(-1.0143157097400788)}\n",
      "Completed trial 7 with raw_data={'hartmann6': np.float64(-0.057470773560666516)}\n",
      "Completed trial 8 with raw_data={'hartmann6': np.float64(-0.2634760408236668)}\n",
      "Completed trial 9 with raw_data={'hartmann6': np.float64(-2.131416091043013)}\n",
      "Completed trial 10 with raw_data={'hartmann6': np.float64(-0.06639365033777847)}\n",
      "Completed trial 11 with raw_data={'hartmann6': np.float64(-0.4784699414127939)}\n",
      "Completed trial 12 with raw_data={'hartmann6': np.float64(-2.0624830700768926)}\n",
      "Completed trial 13 with raw_data={'hartmann6': np.float64(-1.6165045365426522)}\n",
      "Completed trial 14 with raw_data={'hartmann6': np.float64(-1.9187570802503138)}\n",
      "Completed trial 15 with raw_data={'hartmann6': np.float64(-0.6903670943573732)}\n",
      "Completed trial 16 with raw_data={'hartmann6': np.float64(-1.5214372267445133)}\n",
      "Completed trial 17 with raw_data={'hartmann6': np.float64(-1.053299577224032)}\n",
      "Completed trial 18 with raw_data={'hartmann6': np.float64(-2.473326079907886)}\n",
      "Completed trial 19 with raw_data={'hartmann6': np.float64(-0.7724551088993938)}\n",
      "Completed trial 20 with raw_data={'hartmann6': np.float64(-2.701420933927167)}\n",
      "Completed trial 21 with raw_data={'hartmann6': np.float64(-1.7941949670858224)}\n",
      "Completed trial 22 with raw_data={'hartmann6': np.float64(-1.9483207714620945)}\n",
      "Completed trial 23 with raw_data={'hartmann6': np.float64(-1.6111301242942027)}\n",
      "Completed trial 24 with raw_data={'hartmann6': np.float64(-3.020542935184147)}\n",
      "Completed trial 25 with raw_data={'hartmann6': np.float64(-2.8880344193873952)}\n",
      "Completed trial 26 with raw_data={'hartmann6': np.float64(-2.8401491517167448)}\n"
     ]
    }
   ],
   "source": [
    "for _ in range(10): # Run 10 rounds of trials\n",
    "    # We will request three trials at a time in this example\n",
    "    trials = client.get_next_trials(max_trials=3)\n",
    "\n",
    "    for trial_index, parameters in trials.items():\n",
    "        x1 = parameters[\"x1\"]\n",
    "        x2 = parameters[\"x2\"]\n",
    "        x3 = parameters[\"x3\"]\n",
    "        x4 = parameters[\"x4\"]\n",
    "        x5 = parameters[\"x5\"]\n",
    "        x6 = parameters[\"x6\"]\n",
    "\n",
    "        result = hartmann6(x1, x2, x3, x4, x5, x6)\n",
    "\n",
    "        # Set raw_data as a dictionary with metric names as keys and results as values\n",
    "        raw_data = {metric_name: result}\n",
    "\n",
    "        # Complete the trial with the result\n",
    "        client.complete_trial(trial_index=trial_index, raw_data=raw_data)\n",
    "\n",
    "        print(f\"Completed trial {trial_index} with {raw_data=}\")"
   ]
  },
  {
   "cell_type": "code",
   "execution_count": 1,
   "id": "4e920368",
   "metadata": {},
   "outputs": [
    {
     "name": "stdout",
     "output_type": "stream",
     "text": [
      "None\n"
     ]
    }
   ],
   "source": [
    "from ax.models.torch.botorch_modular.utils import ModelConfig\n",
    "print(ModelConfig.__init__.__doc__)"
   ]
  },
  {
   "cell_type": "code",
   "execution_count": null,
   "id": "30e825ef",
   "metadata": {},
   "outputs": [],
   "source": []
  }
 ],
 "metadata": {
  "kernelspec": {
   "display_name": "ax-env",
   "language": "python",
   "name": "python3"
  },
  "language_info": {
   "codemirror_mode": {
    "name": "ipython",
    "version": 3
   },
   "file_extension": ".py",
   "mimetype": "text/x-python",
   "name": "python",
   "nbconvert_exporter": "python",
   "pygments_lexer": "ipython3",
   "version": "3.12.11"
  }
 },
 "nbformat": 4,
 "nbformat_minor": 5
}
